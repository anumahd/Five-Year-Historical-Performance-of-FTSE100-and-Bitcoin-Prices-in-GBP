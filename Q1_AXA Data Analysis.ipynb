{
 "cells": [
  {
   "cell_type": "code",
   "execution_count": 4,
   "id": "184dd247",
   "metadata": {},
   "outputs": [],
   "source": [
    "# Extract FTSE100 data\n",
    "#date extrated from (https://uk.finance.yahoo.com/quote/%5EFTSE/) & (https://uk.finance.yahoo.com/crypto/)\n",
    "#I chose Yahoo finance as it is a public domine and accesable without the need to login \n",
    "#and create a personal API key"
   ]
  },
  {
   "cell_type": "markdown",
   "id": "bb304a57",
   "metadata": {},
   "source": [
    "# Importing library"
   ]
  },
  {
   "cell_type": "code",
   "execution_count": 3,
   "id": "2ede277b",
   "metadata": {},
   "outputs": [],
   "source": [
    "import yfinance as yf #gets data from yahoo finance public accesable domain \n",
    "\n",
    "import pandas as pd #pandas for data manipulation\n",
    "\n",
    "from datetime import datetime, timedelta #use to convert data into usable date time format\n",
    "\n",
    "import matplotlib.pyplot as plt #for plotting \n",
    "\n",
    "import seaborn as sns# for plotting"
   ]
  },
  {
   "cell_type": "markdown",
   "id": "a496586a",
   "metadata": {},
   "source": [
    "### Define the timeframe"
   ]
  },
  {
   "cell_type": "code",
   "execution_count": 4,
   "id": "869e94ba",
   "metadata": {},
   "outputs": [],
   "source": [
    "end_date = datetime.now()\n",
    "start_date = end_date - timedelta(days=5*365)"
   ]
  },
  {
   "cell_type": "markdown",
   "id": "ea4c740b",
   "metadata": {},
   "source": [
    "### Extract FTSE100 data\n",
    "date extrated from (https://uk.finance.yahoo.com/quote/%5EFTSE/) & (https://uk.finance.yahoo.com/crypto/)I chose Yahoo finance as it is a public domine and accesable without the need to login  and create a personal API key"
   ]
  },
  {
   "cell_type": "code",
   "execution_count": 5,
   "id": "f00bc6f9",
   "metadata": {},
   "outputs": [
    {
     "name": "stderr",
     "output_type": "stream",
     "text": [
      "[*********************100%%**********************]  1 of 1 completed\n"
     ]
    }
   ],
   "source": [
    "ftse100 = yf.download('^FTSE', start=start_date, end=end_date)\n",
    "ftse100.reset_index(inplace=True)"
   ]
  },
  {
   "cell_type": "markdown",
   "id": "6d8cce91",
   "metadata": {},
   "source": [
    "### Extract Bitcoin GBP data"
   ]
  },
  {
   "cell_type": "code",
   "execution_count": 6,
   "id": "22f85583",
   "metadata": {},
   "outputs": [
    {
     "name": "stderr",
     "output_type": "stream",
     "text": [
      "[*********************100%%**********************]  1 of 1 completed\n"
     ]
    }
   ],
   "source": [
    "bit_gb = yf.download('BTC-GBP', start=start_date, end=end_date)\n",
    "bit_gb.reset_index(inplace=True)"
   ]
  },
  {
   "cell_type": "code",
   "execution_count": 7,
   "id": "a2134330",
   "metadata": {},
   "outputs": [],
   "source": [
    "# Cleaning FTSE100 data\n",
    "ftse100.dropna(inplace=True)\n",
    "ftse100['Date'] = pd.to_datetime(ftse100['Date'])"
   ]
  },
  {
   "cell_type": "code",
   "execution_count": 8,
   "id": "d363c1e4",
   "metadata": {},
   "outputs": [],
   "source": [
    "# Cleaning Bitcoin data\n",
    "bit_gb.dropna(inplace=True)\n",
    "bit_gb['Date'] = pd.to_datetime(bit_gb['Date'])"
   ]
  },
  {
   "cell_type": "code",
   "execution_count": 9,
   "id": "80e4f654",
   "metadata": {},
   "outputs": [],
   "source": [
    "# Merge the data on the Date column\n",
    "data = pd.merge(ftse100, bit_gb[['Date', 'Close']], on='Date', how='inner')\n",
    "data.rename(columns={'Close_x': 'FTSE100_Close', 'Close_y': 'Bitcoin_Price_GBP'}, inplace=True)"
   ]
  },
  {
   "cell_type": "markdown",
   "id": "4905c762",
   "metadata": {},
   "source": [
    "### Calculate Moving Averages for FTSE100"
   ]
  },
  {
   "cell_type": "markdown",
   "id": "fc6aafdb",
   "metadata": {},
   "source": [
    "#### The SMA is the arithmetic mean of the closing prices over a specified number of periods.\n",
    "#### It provides a smoothed line that helps to identify the trend direction.\n",
    "#### A longer SMA (e.g., 30-day) is smoother and less sensitive to short-term price fluctuations than a shorter SMA (e.g., 7-day)\n"
   ]
  },
  {
   "cell_type": "code",
   "execution_count": 10,
   "id": "69999510",
   "metadata": {},
   "outputs": [],
   "source": [
    "#calculate 7 and 30 day simple moving averages(SMA)\n",
    "data['FTSE100_7Day_SMA'] = data['FTSE100_Close'].rolling(window=7).mean()\n",
    "data['FTSE100_30Day_SMA'] = data['FTSE100_Close'].rolling(window=30).mean()"
   ]
  },
  {
   "cell_type": "code",
   "execution_count": 11,
   "id": "b5632733",
   "metadata": {},
   "outputs": [],
   "source": [
    "#Exponential Moving Average (EMA):\n",
    "#The EMA gives more weight to recent prices, making it more responsive to new information compared to the SMA.\n",
    "#The span parameter controls how quickly the weights decay for older observations.\n",
    "#The 7-day EMA responds more quickly to price changes than the 30-day EMA due to its shorter span"
   ]
  },
  {
   "cell_type": "code",
   "execution_count": 12,
   "id": "f45c40a6",
   "metadata": {},
   "outputs": [],
   "source": [
    "#calculate 7 days and 30 days exponential moving average (EMA)\n",
    "data['FTSE100_7Day_EMA'] =data['FTSE100_Close'].ewm(span=7, adjust=False).mean()\n",
    "data['FTSE100_30Day_EMA'] =data['FTSE100_Close'].ewm(span=30, adjust=False).mean()\n",
    "\n",
    "#pandas .ewm() was used as it is a type of moving average to calculate \\\n",
    "#the exponentially weighted moving average for a certain number of previous periods."
   ]
  },
  {
   "cell_type": "markdown",
   "id": "fe1a0af5",
   "metadata": {},
   "source": [
    "#### Exponential Moving Average for BitCoin"
   ]
  },
  {
   "cell_type": "code",
   "execution_count": 13,
   "id": "57d5bcaa",
   "metadata": {},
   "outputs": [],
   "source": [
    "#Calculate 20, 50, 200 Exponential Moving Average\n",
    "bit_gb['20_MA'] = bit_gb['Adj Close'].rolling(window=20).mean()\n",
    "bit_gb['50_MA'] = bit_gb['Adj Close'].rolling(window=50).mean()\n",
    "bit_gb['200_MA'] = bit_gb['Adj Close'].rolling(window=200).mean()"
   ]
  },
  {
   "cell_type": "markdown",
   "id": "a1198356",
   "metadata": {},
   "source": [
    "## Feature Engineering: Calculating daily returns for FTSE100 and Bitcoin"
   ]
  },
  {
   "cell_type": "code",
   "execution_count": null,
   "id": "2f125717",
   "metadata": {},
   "outputs": [],
   "source": [
    "# percentage change------.pct_change() calculates the percentage change between \n",
    "#the current and previous closing prices"
   ]
  },
  {
   "cell_type": "code",
   "execution_count": 14,
   "id": "9845c9d4",
   "metadata": {},
   "outputs": [],
   "source": [
    "data['FTSE100_Return'] = data['FTSE100_Close'].pct_change()\n",
    "data['Bitcoin_Return'] = data['Bitcoin_Price_GBP'].pct_change()"
   ]
  },
  {
   "cell_type": "code",
   "execution_count": 15,
   "id": "ecfc25cf",
   "metadata": {},
   "outputs": [],
   "source": [
    "# Drop rows with NaN values created by rolling and pct_change\n",
    "data.dropna(inplace=True)"
   ]
  },
  {
   "cell_type": "code",
   "execution_count": 16,
   "id": "84e02ce2",
   "metadata": {},
   "outputs": [
    {
     "data": {
      "text/html": [
       "<div>\n",
       "<style scoped>\n",
       "    .dataframe tbody tr th:only-of-type {\n",
       "        vertical-align: middle;\n",
       "    }\n",
       "\n",
       "    .dataframe tbody tr th {\n",
       "        vertical-align: top;\n",
       "    }\n",
       "\n",
       "    .dataframe thead th {\n",
       "        text-align: right;\n",
       "    }\n",
       "</style>\n",
       "<table border=\"1\" class=\"dataframe\">\n",
       "  <thead>\n",
       "    <tr style=\"text-align: right;\">\n",
       "      <th></th>\n",
       "      <th>Date</th>\n",
       "      <th>Open</th>\n",
       "      <th>High</th>\n",
       "      <th>Low</th>\n",
       "      <th>FTSE100_Close</th>\n",
       "      <th>Adj Close</th>\n",
       "      <th>Volume</th>\n",
       "      <th>Bitcoin_Price_GBP</th>\n",
       "      <th>FTSE100_7Day_SMA</th>\n",
       "      <th>FTSE100_30Day_SMA</th>\n",
       "      <th>FTSE100_7Day_EMA</th>\n",
       "      <th>FTSE100_30Day_EMA</th>\n",
       "      <th>FTSE100_Return</th>\n",
       "      <th>Bitcoin_Return</th>\n",
       "    </tr>\n",
       "  </thead>\n",
       "  <tbody>\n",
       "    <tr>\n",
       "      <th>29</th>\n",
       "      <td>2019-08-27</td>\n",
       "      <td>7095.000000</td>\n",
       "      <td>7110.799805</td>\n",
       "      <td>7044.700195</td>\n",
       "      <td>7089.600098</td>\n",
       "      <td>7089.600098</td>\n",
       "      <td>851399100</td>\n",
       "      <td>8292.351562</td>\n",
       "      <td>7135.528669</td>\n",
       "      <td>7347.116699</td>\n",
       "      <td>7133.016819</td>\n",
       "      <td>7297.776151</td>\n",
       "      <td>-0.000761</td>\n",
       "      <td>-0.021773</td>\n",
       "    </tr>\n",
       "    <tr>\n",
       "      <th>30</th>\n",
       "      <td>2019-08-28</td>\n",
       "      <td>7089.600098</td>\n",
       "      <td>7131.200195</td>\n",
       "      <td>7050.000000</td>\n",
       "      <td>7114.700195</td>\n",
       "      <td>7114.700195</td>\n",
       "      <td>675638900</td>\n",
       "      <td>7983.849121</td>\n",
       "      <td>7135.171526</td>\n",
       "      <td>7331.700033</td>\n",
       "      <td>7128.437663</td>\n",
       "      <td>7285.964799</td>\n",
       "      <td>0.003540</td>\n",
       "      <td>-0.037203</td>\n",
       "    </tr>\n",
       "    <tr>\n",
       "      <th>31</th>\n",
       "      <td>2019-08-29</td>\n",
       "      <td>7114.700195</td>\n",
       "      <td>7199.200195</td>\n",
       "      <td>7103.100098</td>\n",
       "      <td>7184.299805</td>\n",
       "      <td>7184.299805</td>\n",
       "      <td>635681800</td>\n",
       "      <td>7804.203613</td>\n",
       "      <td>7134.400042</td>\n",
       "      <td>7319.993359</td>\n",
       "      <td>7142.403199</td>\n",
       "      <td>7279.405767</td>\n",
       "      <td>0.009783</td>\n",
       "      <td>-0.022501</td>\n",
       "    </tr>\n",
       "    <tr>\n",
       "      <th>32</th>\n",
       "      <td>2019-08-30</td>\n",
       "      <td>7184.299805</td>\n",
       "      <td>7240.399902</td>\n",
       "      <td>7179.700195</td>\n",
       "      <td>7207.200195</td>\n",
       "      <td>7207.200195</td>\n",
       "      <td>727868800</td>\n",
       "      <td>7893.874023</td>\n",
       "      <td>7146.142927</td>\n",
       "      <td>7310.463363</td>\n",
       "      <td>7158.602448</td>\n",
       "      <td>7274.747343</td>\n",
       "      <td>0.003188</td>\n",
       "      <td>0.011490</td>\n",
       "    </tr>\n",
       "    <tr>\n",
       "      <th>33</th>\n",
       "      <td>2019-09-02</td>\n",
       "      <td>7207.200195</td>\n",
       "      <td>7315.299805</td>\n",
       "      <td>7206.899902</td>\n",
       "      <td>7281.899902</td>\n",
       "      <td>7281.899902</td>\n",
       "      <td>497764900</td>\n",
       "      <td>8575.850586</td>\n",
       "      <td>7157.271484</td>\n",
       "      <td>7302.903353</td>\n",
       "      <td>7189.426811</td>\n",
       "      <td>7275.208798</td>\n",
       "      <td>0.010365</td>\n",
       "      <td>0.086393</td>\n",
       "    </tr>\n",
       "  </tbody>\n",
       "</table>\n",
       "</div>"
      ],
      "text/plain": [
       "         Date         Open         High          Low  FTSE100_Close  \\\n",
       "29 2019-08-27  7095.000000  7110.799805  7044.700195    7089.600098   \n",
       "30 2019-08-28  7089.600098  7131.200195  7050.000000    7114.700195   \n",
       "31 2019-08-29  7114.700195  7199.200195  7103.100098    7184.299805   \n",
       "32 2019-08-30  7184.299805  7240.399902  7179.700195    7207.200195   \n",
       "33 2019-09-02  7207.200195  7315.299805  7206.899902    7281.899902   \n",
       "\n",
       "      Adj Close     Volume  Bitcoin_Price_GBP  FTSE100_7Day_SMA  \\\n",
       "29  7089.600098  851399100        8292.351562       7135.528669   \n",
       "30  7114.700195  675638900        7983.849121       7135.171526   \n",
       "31  7184.299805  635681800        7804.203613       7134.400042   \n",
       "32  7207.200195  727868800        7893.874023       7146.142927   \n",
       "33  7281.899902  497764900        8575.850586       7157.271484   \n",
       "\n",
       "    FTSE100_30Day_SMA  FTSE100_7Day_EMA  FTSE100_30Day_EMA  FTSE100_Return  \\\n",
       "29        7347.116699       7133.016819        7297.776151       -0.000761   \n",
       "30        7331.700033       7128.437663        7285.964799        0.003540   \n",
       "31        7319.993359       7142.403199        7279.405767        0.009783   \n",
       "32        7310.463363       7158.602448        7274.747343        0.003188   \n",
       "33        7302.903353       7189.426811        7275.208798        0.010365   \n",
       "\n",
       "    Bitcoin_Return  \n",
       "29       -0.021773  \n",
       "30       -0.037203  \n",
       "31       -0.022501  \n",
       "32        0.011490  \n",
       "33        0.086393  "
      ]
     },
     "execution_count": 16,
     "metadata": {},
     "output_type": "execute_result"
    }
   ],
   "source": [
    "# Display the first few rows of the merged data\n",
    "data.head()"
   ]
  },
  {
   "cell_type": "code",
   "execution_count": 25,
   "id": "2873a199",
   "metadata": {},
   "outputs": [
    {
     "name": "stdout",
     "output_type": "stream",
     "text": [
      "\n",
      "Summary Statistics:\n",
      "\n"
     ]
    },
    {
     "data": {
      "text/html": [
       "<div>\n",
       "<style scoped>\n",
       "    .dataframe tbody tr th:only-of-type {\n",
       "        vertical-align: middle;\n",
       "    }\n",
       "\n",
       "    .dataframe tbody tr th {\n",
       "        vertical-align: top;\n",
       "    }\n",
       "\n",
       "    .dataframe thead th {\n",
       "        text-align: right;\n",
       "    }\n",
       "</style>\n",
       "<table border=\"1\" class=\"dataframe\">\n",
       "  <thead>\n",
       "    <tr style=\"text-align: right;\">\n",
       "      <th></th>\n",
       "      <th>Open</th>\n",
       "      <th>High</th>\n",
       "      <th>Low</th>\n",
       "      <th>FTSE100_Close</th>\n",
       "      <th>Adj Close</th>\n",
       "      <th>Volume</th>\n",
       "      <th>Bitcoin_Price_GBP</th>\n",
       "      <th>FTSE100_7Day_SMA</th>\n",
       "      <th>FTSE100_30Day_SMA</th>\n",
       "      <th>FTSE100_7Day_EMA</th>\n",
       "      <th>FTSE100_30Day_EMA</th>\n",
       "      <th>FTSE100_Return</th>\n",
       "      <th>Bitcoin_Return</th>\n",
       "    </tr>\n",
       "  </thead>\n",
       "  <tbody>\n",
       "    <tr>\n",
       "      <th>count</th>\n",
       "      <td>1231.000000</td>\n",
       "      <td>1231.000000</td>\n",
       "      <td>1231.000000</td>\n",
       "      <td>1231.000000</td>\n",
       "      <td>1231.000000</td>\n",
       "      <td>1.231000e+03</td>\n",
       "      <td>1231.000000</td>\n",
       "      <td>1231.000000</td>\n",
       "      <td>1231.000000</td>\n",
       "      <td>1231.000000</td>\n",
       "      <td>1231.000000</td>\n",
       "      <td>1231.000000</td>\n",
       "      <td>1231.000000</td>\n",
       "    </tr>\n",
       "    <tr>\n",
       "      <th>mean</th>\n",
       "      <td>7174.327053</td>\n",
       "      <td>7219.121778</td>\n",
       "      <td>7129.565238</td>\n",
       "      <td>7175.219254</td>\n",
       "      <td>7175.219254</td>\n",
       "      <td>8.435573e+08</td>\n",
       "      <td>23722.513072</td>\n",
       "      <td>7172.605862</td>\n",
       "      <td>7164.175225</td>\n",
       "      <td>7172.633095</td>\n",
       "      <td>7164.678294</td>\n",
       "      <td>0.000185</td>\n",
       "      <td>0.002163</td>\n",
       "    </tr>\n",
       "    <tr>\n",
       "      <th>std</th>\n",
       "      <td>628.434904</td>\n",
       "      <td>617.739488</td>\n",
       "      <td>641.207523</td>\n",
       "      <td>629.209957</td>\n",
       "      <td>629.209957</td>\n",
       "      <td>3.220907e+08</td>\n",
       "      <td>13585.263502</td>\n",
       "      <td>622.350882</td>\n",
       "      <td>597.493087</td>\n",
       "      <td>619.883198</td>\n",
       "      <td>588.319457</td>\n",
       "      <td>0.011097</td>\n",
       "      <td>0.040032</td>\n",
       "    </tr>\n",
       "    <tr>\n",
       "      <th>min</th>\n",
       "      <td>4993.899902</td>\n",
       "      <td>5181.000000</td>\n",
       "      <td>4898.799805</td>\n",
       "      <td>4993.899902</td>\n",
       "      <td>4993.899902</td>\n",
       "      <td>0.000000e+00</td>\n",
       "      <td>3954.907959</td>\n",
       "      <td>5175.571429</td>\n",
       "      <td>5530.920036</td>\n",
       "      <td>5246.886851</td>\n",
       "      <td>5803.318270</td>\n",
       "      <td>-0.108738</td>\n",
       "      <td>-0.359284</td>\n",
       "    </tr>\n",
       "    <tr>\n",
       "      <th>25%</th>\n",
       "      <td>6960.500000</td>\n",
       "      <td>7007.949951</td>\n",
       "      <td>6900.500000</td>\n",
       "      <td>6960.500000</td>\n",
       "      <td>6960.500000</td>\n",
       "      <td>6.428026e+08</td>\n",
       "      <td>11865.009277</td>\n",
       "      <td>6965.628557</td>\n",
       "      <td>6997.670036</td>\n",
       "      <td>6975.792926</td>\n",
       "      <td>6991.180583</td>\n",
       "      <td>-0.004283</td>\n",
       "      <td>-0.016043</td>\n",
       "    </tr>\n",
       "    <tr>\n",
       "      <th>50%</th>\n",
       "      <td>7324.500000</td>\n",
       "      <td>7368.299805</td>\n",
       "      <td>7282.500000</td>\n",
       "      <td>7326.100098</td>\n",
       "      <td>7326.100098</td>\n",
       "      <td>7.763260e+08</td>\n",
       "      <td>22547.867188</td>\n",
       "      <td>7325.285645</td>\n",
       "      <td>7316.686637</td>\n",
       "      <td>7328.603601</td>\n",
       "      <td>7313.064306</td>\n",
       "      <td>0.000659</td>\n",
       "      <td>0.001099</td>\n",
       "    </tr>\n",
       "    <tr>\n",
       "      <th>75%</th>\n",
       "      <td>7573.300049</td>\n",
       "      <td>7613.400146</td>\n",
       "      <td>7532.300049</td>\n",
       "      <td>7573.600098</td>\n",
       "      <td>7573.600098</td>\n",
       "      <td>9.731642e+08</td>\n",
       "      <td>32963.210938</td>\n",
       "      <td>7564.178571</td>\n",
       "      <td>7529.021647</td>\n",
       "      <td>7567.021528</td>\n",
       "      <td>7532.492527</td>\n",
       "      <td>0.005252</td>\n",
       "      <td>0.019995</td>\n",
       "    </tr>\n",
       "    <tr>\n",
       "      <th>max</th>\n",
       "      <td>8445.799805</td>\n",
       "      <td>8474.400391</td>\n",
       "      <td>8427.900391</td>\n",
       "      <td>8445.799805</td>\n",
       "      <td>8445.799805</td>\n",
       "      <td>2.813498e+09</td>\n",
       "      <td>57090.710938</td>\n",
       "      <td>8429.414202</td>\n",
       "      <td>8300.103320</td>\n",
       "      <td>8409.093244</td>\n",
       "      <td>8239.025561</td>\n",
       "      <td>0.090530</td>\n",
       "      <td>0.210290</td>\n",
       "    </tr>\n",
       "  </tbody>\n",
       "</table>\n",
       "</div>"
      ],
      "text/plain": [
       "              Open         High          Low  FTSE100_Close    Adj Close  \\\n",
       "count  1231.000000  1231.000000  1231.000000    1231.000000  1231.000000   \n",
       "mean   7174.327053  7219.121778  7129.565238    7175.219254  7175.219254   \n",
       "std     628.434904   617.739488   641.207523     629.209957   629.209957   \n",
       "min    4993.899902  5181.000000  4898.799805    4993.899902  4993.899902   \n",
       "25%    6960.500000  7007.949951  6900.500000    6960.500000  6960.500000   \n",
       "50%    7324.500000  7368.299805  7282.500000    7326.100098  7326.100098   \n",
       "75%    7573.300049  7613.400146  7532.300049    7573.600098  7573.600098   \n",
       "max    8445.799805  8474.400391  8427.900391    8445.799805  8445.799805   \n",
       "\n",
       "             Volume  Bitcoin_Price_GBP  FTSE100_7Day_SMA  FTSE100_30Day_SMA  \\\n",
       "count  1.231000e+03        1231.000000       1231.000000        1231.000000   \n",
       "mean   8.435573e+08       23722.513072       7172.605862        7164.175225   \n",
       "std    3.220907e+08       13585.263502        622.350882         597.493087   \n",
       "min    0.000000e+00        3954.907959       5175.571429        5530.920036   \n",
       "25%    6.428026e+08       11865.009277       6965.628557        6997.670036   \n",
       "50%    7.763260e+08       22547.867188       7325.285645        7316.686637   \n",
       "75%    9.731642e+08       32963.210938       7564.178571        7529.021647   \n",
       "max    2.813498e+09       57090.710938       8429.414202        8300.103320   \n",
       "\n",
       "       FTSE100_7Day_EMA  FTSE100_30Day_EMA  FTSE100_Return  Bitcoin_Return  \n",
       "count       1231.000000        1231.000000     1231.000000     1231.000000  \n",
       "mean        7172.633095        7164.678294        0.000185        0.002163  \n",
       "std          619.883198         588.319457        0.011097        0.040032  \n",
       "min         5246.886851        5803.318270       -0.108738       -0.359284  \n",
       "25%         6975.792926        6991.180583       -0.004283       -0.016043  \n",
       "50%         7328.603601        7313.064306        0.000659        0.001099  \n",
       "75%         7567.021528        7532.492527        0.005252        0.019995  \n",
       "max         8409.093244        8239.025561        0.090530        0.210290  "
      ]
     },
     "execution_count": 25,
     "metadata": {},
     "output_type": "execute_result"
    }
   ],
   "source": [
    "# Summary Statistics\n",
    "print(\"\\nSummary Statistics:\\n\")\n",
    "data.describe()"
   ]
  },
  {
   "cell_type": "code",
   "execution_count": 17,
   "id": "c92a83bb",
   "metadata": {},
   "outputs": [],
   "source": [
    "# Save data as CSV\n",
    "csv_file_path = 'data.csv'\n",
    "data.to_csv(csv_file_path, index=False)"
   ]
  },
  {
   "cell_type": "code",
   "execution_count": null,
   "id": "1191ed20",
   "metadata": {},
   "outputs": [],
   "source": []
  }
 ],
 "metadata": {
  "kernelspec": {
   "display_name": "Python 3 (ipykernel)",
   "language": "python",
   "name": "python3"
  },
  "language_info": {
   "codemirror_mode": {
    "name": "ipython",
    "version": 3
   },
   "file_extension": ".py",
   "mimetype": "text/x-python",
   "name": "python",
   "nbconvert_exporter": "python",
   "pygments_lexer": "ipython3",
   "version": "3.8.8"
  }
 },
 "nbformat": 4,
 "nbformat_minor": 5
}
